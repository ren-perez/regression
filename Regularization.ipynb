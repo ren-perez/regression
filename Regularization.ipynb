{
 "cells": [
  {
   "cell_type": "markdown",
   "metadata": {},
   "source": [
    "# Regularization\n",
    "\n",
    "The main task of this assignment is to create a Lasso regression model that uses the 101 predictors to predict the total number of non-violent crimes. In particular, you will need to implement the following three methods to determine the best hyperparameters to use:"
   ]
  },
  {
   "cell_type": "code",
   "execution_count": null,
   "metadata": {},
   "outputs": [],
   "source": [
    "# %%\n",
    "# imports\n",
    "from sklearn.model_selection import KFold\n",
    "import statsmodels.api as sm\n",
    "from sklearn.preprocessing import StandardScaler\n",
    "from sklearn.model_selection import train_test_split\n",
    "from sklearn import linear_model\n",
    "from sklearn.metrics import mean_squared_error\n",
    "import pandas as pd\n",
    "import numpy as np\n",
    "import matplotlib.pyplot as plt\n",
    "import warnings\n",
    "warnings.filterwarnings('ignore')"
   ]
  },
  {
   "cell_type": "markdown",
   "metadata": {},
   "source": [
    "### User Defined Funtions"
   ]
  },
  {
   "cell_type": "code",
   "execution_count": 2,
   "metadata": {},
   "outputs": [],
   "source": [
    "def gen_lambdas(lambdas_range: tuple):\n",
    "    \"\"\" \n",
    "    lambdas_range: tuple(min, max, n_inbetween)\n",
    "\n",
    "    returns logspace of lambdas and linspace as index \n",
    "    \"\"\"\n",
    "    lambdas = np.logspace(lambdas_range[0], lambdas_range[1], lambdas_range[2])\n",
    "    lambdas_index = np.linspace(\n",
    "        lambdas_range[0], lambdas_range[1], lambdas_range[2])\n",
    "\n",
    "    return lambdas, lambdas_index\n"
   ]
  },
  {
   "cell_type": "code",
   "execution_count": 3,
   "metadata": {},
   "outputs": [],
   "source": [
    "def scale_set(x_fit, x_set, x_columns_values=None):\n",
    "    \"\"\"  \"\"\"\n",
    "    scaler = StandardScaler()\n",
    "    scaler.fit(x_fit)\n",
    "\n",
    "    X_fit = pd.DataFrame(scaler.transform(x_fit))\n",
    "    X_set = pd.DataFrame(scaler.transform(x_set))\n",
    "\n",
    "    if x_columns_values is not None:\n",
    "        X_fit.columns = x_columns_values\n",
    "        X_set.columns = x_columns_values\n",
    "\n",
    "    return X_fit, X_set\n"
   ]
  },
  {
   "cell_type": "code",
   "execution_count": 4,
   "metadata": {},
   "outputs": [],
   "source": [
    "def run_Lasso(X_train, y_train, X_test, y_test, lam, tol=None):\n",
    "    \"\"\"  \"\"\"\n",
    "    if tol is None:\n",
    "        tol = 1e-4\n",
    "\n",
    "    lm_lasso = linear_model.Lasso(alpha=lam, tol=tol)\n",
    "    lm_lasso.fit(X_train, y_train)\n",
    "    mse = mean_squared_error(lm_lasso.predict(X_test), y_test)\n",
    "\n",
    "    return mse\n"
   ]
  },
  {
   "cell_type": "code",
   "execution_count": 5,
   "metadata": {},
   "outputs": [],
   "source": [
    "def train_kLasso(X_train, y_train, lambdas_range, k=5):\n",
    "    \"\"\"  \"\"\"\n",
    "    # Getting Lambdas\n",
    "    lambdas, lambdas_index = gen_lambdas(lambdas_range)\n",
    "    # print(lambdas, lambdas_index)\n",
    "\n",
    "    # Avg validation MSE of each hyperparameter candidate\n",
    "    validation_mse = []\n",
    "\n",
    "    for idx, lam in enumerate(lambdas):\n",
    "        tmp_mse = []\n",
    "\n",
    "        kfold = KFold(n_splits=k, shuffle=True, random_state=idx)\n",
    "        for train_idx, valid_idx in kfold.split(X_train):\n",
    "            # Training set\n",
    "            X_training, Y_training = X_train.iloc[train_idx], y_train.iloc[train_idx]\n",
    "            # Validation set\n",
    "            X_validation, Y_validation = X_train.iloc[valid_idx], y_train.iloc[valid_idx]\n",
    "\n",
    "            # Scaling\n",
    "            X_training, X_validation = scale_set(X_training, X_validation)\n",
    "\n",
    "            # Lasso\n",
    "            mse = run_Lasso(X_training, Y_training,\n",
    "                            X_validation, Y_validation, lam)\n",
    "            tmp_mse.append(mse)\n",
    "\n",
    "        # Calculating avg MSE across the k-folds\n",
    "        validation_mse.append(np.mean(tmp_mse))\n",
    "\n",
    "    # Plotting the MSEs scores\n",
    "    plot_MSE(lambdas_index, validation_mse)\n",
    "\n",
    "    # Best Lambda\n",
    "    bestLambda = lambdas[np.argmin(validation_mse)]\n",
    "    print(\"Best Lambda: \", bestLambda)\n",
    "\n",
    "    return bestLambda\n"
   ]
  },
  {
   "cell_type": "code",
   "execution_count": 6,
   "metadata": {},
   "outputs": [],
   "source": [
    "def train_kLasso_tol(X_train, y_train, lambdas_range, k=5):\n",
    "    # Getting Lambdas\n",
    "    lambdas, lambdas_index = gen_lambdas(lambdas_range)\n",
    "    # print(lambdas, lambdas_index)\n",
    "\n",
    "    # Avg validation MSE of each hyperparameter candidate\n",
    "    validation_mse = []\n",
    "\n",
    "    tolerances = np.logspace(-10, 10, 21)\n",
    "\n",
    "    # Define variables to keep track of best parameter and score\n",
    "    best_params = ()\n",
    "    best_mse = float('-inf')\n",
    "    mse_scores = {}\n",
    "\n",
    "    kfold = KFold(n_splits=k, shuffle=True)\n",
    "    for lam in lambdas:\n",
    "        for tol in tolerances:\n",
    "            tmp_mse = []\n",
    "\n",
    "            # Perform K-Fold CV\n",
    "            for train_idx, valid_idx in kfold.split(X_train):\n",
    "                # Training set and Validation set\n",
    "                X_training, Y_training = X_train.iloc[train_idx], y_train.iloc[train_idx]\n",
    "                X_validation, Y_validation = X_train.iloc[valid_idx], y_train.iloc[valid_idx]\n",
    "\n",
    "                # Scaling\n",
    "                X_training, X_validation = scale_set(X_training, X_validation)\n",
    "\n",
    "                # Lasso\n",
    "                mse = run_Lasso(X_training, Y_training,\n",
    "                                X_validation, Y_validation, lam, tol)\n",
    "                \n",
    "                tmp_mse.append(mse)\n",
    "            \n",
    "            # Calculate the mean of the scores across all folds\n",
    "            mean_mse = np.mean(tmp_mse)\n",
    "            mse_scores[(lam, tol)] = mean_mse\n",
    "\n",
    "            # Update the best score and parameters if this model is better\n",
    "            if mean_mse > best_mse:\n",
    "                best_mse = mean_mse\n",
    "                best_params = {'Lambda': lam, 'Tolerance': tol}\n",
    "\n",
    "    # Plotting the MSEs scores\n",
    "    # plot_MSE(lambdas_index, validation_mse)\n",
    "\n",
    "    print(\"Best params: \", best_params)\n",
    "\n",
    "    return best_params\n"
   ]
  },
  {
   "cell_type": "code",
   "execution_count": 7,
   "metadata": {},
   "outputs": [],
   "source": [
    "def plot_MSE(lambdas_index, validation_mse):\n",
    "    \"\"\"  \"\"\"\n",
    "    plt.plot(lambdas_index, validation_mse)\n",
    "    plt.xlabel('Lambda Value (log scale)')\n",
    "    plt.ylabel('Averaged Validation MSE')\n",
    "    plt.title('Validation MSE vs Lambda')\n",
    "    plt.show()\n",
    "    "
   ]
  },
  {
   "cell_type": "code",
   "execution_count": 8,
   "metadata": {},
   "outputs": [],
   "source": [
    "def test_Lasso(X_train, y_train, X_test, y_test, lam):\n",
    "    \"\"\"  \"\"\"\n",
    "    # Scaling\n",
    "    X_train_s, X_test_s = scale_set(X_train, X_test, X_train.columns.values)\n",
    "\n",
    "    # Lasso Model\n",
    "    lm_lasso = linear_model.Lasso(alpha=lam)\n",
    "    lm_lasso.fit(X_train_s, y_train)\n",
    "\n",
    "    # Results: Coefficients and MSE\n",
    "    coef_ = pd.DataFrame(list(zip(X_train_s.columns, lm_lasso.coef_)), columns=[\n",
    "                         [\"Feature\", \"Coefficient\"]])\n",
    "    mse = mean_squared_error(lm_lasso.predict(X_test_s), y_test)\n",
    "\n",
    "    return coef_, mse\n"
   ]
  },
  {
   "cell_type": "markdown",
   "metadata": {},
   "source": [
    "## Lasso Models"
   ]
  },
  {
   "cell_type": "code",
   "execution_count": 15,
   "metadata": {},
   "outputs": [],
   "source": [
    "# Loading data into DataFrame\n",
    "community = pd.read_csv(\"community.csv\")\n",
    "community.head()\n",
    "\n",
    "# Predictors\n",
    "X = community.copy()\n",
    "X = X.drop([\"nonViolPerPop\"], axis=1)\n",
    "\n",
    "# Response\n",
    "y = community[\"nonViolPerPop\"]\n",
    "\n",
    "# %%%\n",
    "# HOLD OUT SET\n",
    "# ------------\n",
    "\n",
    "RND_STATE = 1\n",
    "X_train_valid, X_test, y_train_valid, y_test = train_test_split(\n",
    "    X, y, test_size=0.3, random_state=RND_STATE)\n",
    "\n",
    "# %%%\n",
    "# GENERATING LAMBDAS RANGE\n",
    "# ------------------------\n",
    "\n",
    "lambdas_range = (0, 10, 201)  # returns lambdas, lambda_index\n"
   ]
  },
  {
   "cell_type": "markdown",
   "metadata": {},
   "source": [
    "### OLS"
   ]
  },
  {
   "cell_type": "code",
   "execution_count": 16,
   "metadata": {},
   "outputs": [
    {
     "name": "stdout",
     "output_type": "stream",
     "text": [
      "const                 -19228.550372\n",
      "population                 0.025663\n",
      "householdsize          -1303.552819\n",
      "racepctblack              42.956757\n",
      "racePctWhite              33.323651\n",
      "                           ...     \n",
      "PctSameState85             2.066174\n",
      "LandArea                  -0.908292\n",
      "PopDens                   -0.097189\n",
      "PctUsePubTrans           -27.010127\n",
      "LemasPctOfficDrugUn       55.518971\n",
      "Length: 102, dtype: float64\n",
      "MSE:  3682186.3088420113\n"
     ]
    }
   ],
   "source": [
    "X_int = sm.add_constant(X_train_valid)\n",
    "lm = sm.OLS(y_train_valid, X_int).fit()\n",
    "X_test_int = sm.add_constant(X_test)\n",
    "# print(lm.summary())\n",
    "print(lm.params)\n",
    "print(\"MSE: \", mean_squared_error(lm.predict(X_test_int), y_test))"
   ]
  },
  {
   "cell_type": "markdown",
   "metadata": {},
   "source": [
    "### Train-Validation Test"
   ]
  },
  {
   "cell_type": "code",
   "execution_count": 17,
   "metadata": {},
   "outputs": [
    {
     "data": {
      "text/plain": [
       "(                 Feature Coefficient\n",
       " 0             population    0.000000\n",
       " 1          householdsize   -0.000000\n",
       " 2           racepctblack    0.000000\n",
       " 3           racePctWhite   -0.000000\n",
       " 4           racePctAsian    0.000000\n",
       " ..                   ...         ...\n",
       " 96        PctSameState85   -0.000000\n",
       " 97              LandArea    0.000000\n",
       " 98               PopDens   -0.000000\n",
       " 99        PctUsePubTrans   -0.000000\n",
       " 100  LemasPctOfficDrugUn  159.062015\n",
       " \n",
       " [101 rows x 2 columns],\n",
       " 4006445.6772699477)"
      ]
     },
     "execution_count": 17,
     "metadata": {},
     "output_type": "execute_result"
    }
   ],
   "source": [
    "# Second Split\n",
    "X_train, X_valid, y_train, y_valid = train_test_split(X_train_valid, y_train_valid,\n",
    "                                                      test_size=0.25,\n",
    "                                                      random_state=RND_STATE)\n",
    "mse_train = []\n",
    "for lam in lambdas_range:\n",
    "    mse = run_Lasso(X_train, y_train, X_valid, y_valid, lam)\n",
    "    mse_train.append(mse)\n",
    "\n",
    "bestLambda = lambdas_range[np.argmax(mse_train)]\n",
    "test_Lasso(X_train, y_train, X_test, y_test, bestLambda)"
   ]
  },
  {
   "cell_type": "markdown",
   "metadata": {},
   "source": [
    "### 5-Fold Cross Validation"
   ]
  },
  {
   "cell_type": "code",
   "execution_count": 21,
   "metadata": {},
   "outputs": [
    {
     "data": {
      "image/png": "[encoded data removed]",
      "text/plain": [
       "<Figure size 640x480 with 1 Axes>"
      ]
     },
     "metadata": {},
     "output_type": "display_data"
    },
    {
     "name": "stdout",
     "output_type": "stream",
     "text": [
      "Best Lambda:  10.0\n"
     ]
    },
    {
     "data": {
      "text/plain": [
       "(                 Feature Coefficient\n",
       " 0             population   -0.000000\n",
       " 1          householdsize -222.039462\n",
       " 2           racepctblack   88.380583\n",
       " 3           racePctWhite    0.000000\n",
       " 4           racePctAsian    0.000000\n",
       " ..                   ...         ...\n",
       " 96        PctSameState85  -30.835650\n",
       " 97              LandArea  -20.478631\n",
       " 98               PopDens -256.053326\n",
       " 99        PctUsePubTrans  -95.296378\n",
       " 100  LemasPctOfficDrugUn  158.182358\n",
       " \n",
       " [101 rows x 2 columns],\n",
       " 3479861.2189653176)"
      ]
     },
     "execution_count": 21,
     "metadata": {},
     "output_type": "execute_result"
    }
   ],
   "source": [
    "lambdas_range = (0, 10, 11)\n",
    "bestLambda = train_kLasso(X_train_valid, y_train_valid, lambdas_range, k=5)\n",
    "test_Lasso(X_train_valid, y_train_valid, X_test, y_test, bestLambda)\n"
   ]
  },
  {
   "cell_type": "markdown",
   "metadata": {},
   "source": [
    "### 10-Fold Cross Validation"
   ]
  },
  {
   "cell_type": "code",
   "execution_count": 22,
   "metadata": {},
   "outputs": [
    {
     "data": {
      "image/png": "[encoded data removed]",
      "text/plain": [
       "<Figure size 640x480 with 1 Axes>"
      ]
     },
     "metadata": {},
     "output_type": "display_data"
    },
    {
     "name": "stdout",
     "output_type": "stream",
     "text": [
      "Best Lambda:  10.0\n"
     ]
    },
    {
     "data": {
      "text/plain": [
       "(                 Feature Coefficient\n",
       " 0             population   -0.000000\n",
       " 1          householdsize -222.039462\n",
       " 2           racepctblack   88.380583\n",
       " 3           racePctWhite    0.000000\n",
       " 4           racePctAsian    0.000000\n",
       " ..                   ...         ...\n",
       " 96        PctSameState85  -30.835650\n",
       " 97              LandArea  -20.478631\n",
       " 98               PopDens -256.053326\n",
       " 99        PctUsePubTrans  -95.296378\n",
       " 100  LemasPctOfficDrugUn  158.182358\n",
       " \n",
       " [101 rows x 2 columns],\n",
       " 3479861.2189653176)"
      ]
     },
     "execution_count": 22,
     "metadata": {},
     "output_type": "execute_result"
    }
   ],
   "source": [
    "lambdas_range = (0, 10, 11)\n",
    "bestLambda = train_kLasso(X_train_valid, y_train_valid, lambdas_range, k=10)\n",
    "test_Lasso(X_train_valid, y_train_valid, X_test, y_test, bestLambda)\n"
   ]
  }
 ],
 "metadata": {
  "kernelspec": {
   "display_name": "Python 3",
   "language": "python",
   "name": "python3"
  },
  "language_info": {
   "codemirror_mode": {
    "name": "ipython",
    "version": 3
   },
   "file_extension": ".py",
   "mimetype": "text/x-python",
   "name": "python",
   "nbconvert_exporter": "python",
   "pygments_lexer": "ipython3",
   "version": "3.11.5"
  },
  "orig_nbformat": 4
 },
 "nbformat": 4,
 "nbformat_minor": 2
}
